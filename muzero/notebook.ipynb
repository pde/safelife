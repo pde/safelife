{
  "nbformat": 4,
  "nbformat_minor": 0,
  "metadata": {
    "colab": {
      "name": "Untitled3.ipynb",
      "provenance": []
    },
    "kernelspec": {
      "name": "python3",
      "display_name": "Python 3"
    }
  },
  "cells": [
    {
      "cell_type": "code",
      "execution_count": null,
      "metadata": {},
      "outputs": [],
      "source": [
        "# Google colab stuffs\n",
        "!pip install -r requirements.txt\n",
        "!pip uninstall -y pyarrow\n",
        "%load_ext tensorboard\n",
        "# If you have an import issue with ray in google colab, restart the environment (execution menu)"
      ]
    },
    {
      "cell_type": "code",
      "execution_count": null,
      "metadata": {},
      "outputs": [],
      "source": [
        "# You must have the repository imported along with your notebook. \n",
        "# For google colab, click on \">\" buttton (left) and import files (muzero.py, self_play.py, ...).\n",
        "\n",
        "import muzero as mz"
      ]
    },
    {
      "cell_type": "code",
      "execution_count": null,
      "metadata": {},
      "outputs": [],
      "source": [
        "#Train on cartpole game\n",
        "muzero = mz.MuZero(\"cartpole\")\n",
        "muzero.train()\n",
        "muzero.test()"
      ]
    }
  ]
}